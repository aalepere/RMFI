{
 "cells": [
  {
   "cell_type": "markdown",
   "metadata": {},
   "source": [
    "# Chapter 1 - Introduction"
   ]
  },
  {
   "cell_type": "code",
   "execution_count": 15,
   "metadata": {},
   "outputs": [],
   "source": [
    "import numpy as np\n",
    "import pandas as pd"
   ]
  },
  {
   "cell_type": "markdown",
   "metadata": {},
   "source": [
    "## 1.1 An investment has probabilities of 0.1, 0.2, 0.35, 0.25 and 0.1 of giving returns equal to 40%, 30%, 15%, -5% and -15%. What are the expected returns abd the standard deviation of those returns?"
   ]
  },
  {
   "cell_type": "code",
   "execution_count": 2,
   "metadata": {},
   "outputs": [
    {
     "name": "stdout",
     "output_type": "stream",
     "text": [
      "Expected returns is 0.12499999999999999\n",
      "Standard deviation of expected returns is 0.17066048165876016\n"
     ]
    }
   ],
   "source": [
    "ER = 0.1 * 0.4 + 0.2 * 0.3 + 0.35 * 0.15 + 0.25 * (-0.05) + 0.1 * (-0.15)\n",
    "print(\"Expected returns is {}\".format(ER))\n",
    "\n",
    "# stdev sqrt(E(R^2) - E(R)^2)\n",
    "SD = np.sqrt(\n",
    "    (\n",
    "        0.1 * (0.4 ** 2)\n",
    "        + 0.2 * (0.3 ** 2)\n",
    "        + 0.35 * (0.15 ** 2)\n",
    "        + 0.25 * ((-0.05) ** 2)\n",
    "        + 0.1 * ((-0.15) ** 2)\n",
    "    )\n",
    "    - ER ** 2\n",
    ")\n",
    "print(\"Standard deviation of expected returns is {}\".format(SD))"
   ]
  },
  {
   "cell_type": "markdown",
   "metadata": {},
   "source": [
    "## 1.2 Suppose that there are two investements with the same probability distribution of returns as 1.1. The correlation between the returns is 0.15. What is the expected return and standard deviation of return from a portfolio where money is divided equally between the two investments?"
   ]
  },
  {
   "cell_type": "code",
   "execution_count": 3,
   "metadata": {},
   "outputs": [
    {
     "name": "stdout",
     "output_type": "stream",
     "text": [
      "Expected returns is 0.12499999999999999\n",
      "Standard deviation of expected returns is 0.12940971756402225\n"
     ]
    }
   ],
   "source": [
    "# Portfolio exptected returns\n",
    "ER_new_portfolio = 0.5 * ER + 0.5 * ER\n",
    "print(\"Expected returns is {}\".format(ER_new_portfolio))\n",
    "\n",
    "# Stdev = sqrt(w1^2*std1^2 + w2^2*std2^2 + 2*corr*w1*w2*std1*std2)\n",
    "SD_new_portfolio = np.sqrt(\n",
    "    (0.5 ** 2) * (SD ** 2) + (0.5 ** 2) * (SD ** 2) + 2 * 0.15 * 0.5 * 0.5 * SD * SD\n",
    ")\n",
    "print(\"Standard deviation of expected returns is {}\".format(SD_new_portfolio))"
   ]
  },
  {
   "cell_type": "markdown",
   "metadata": {},
   "source": [
    "## 1.3 For the two investments considerede in figure 1.2 and Table 1.2. What are the alternative risk-return combinations if the correlation is:\n",
    "* 0.3\n",
    "* 1\n",
    "* -1"
   ]
  },
  {
   "cell_type": "code",
   "execution_count": 26,
   "metadata": {},
   "outputs": [
    {
     "data": {
      "text/html": [
       "<div>\n",
       "<style scoped>\n",
       "    .dataframe tbody tr th:only-of-type {\n",
       "        vertical-align: middle;\n",
       "    }\n",
       "\n",
       "    .dataframe tbody tr th {\n",
       "        vertical-align: top;\n",
       "    }\n",
       "\n",
       "    .dataframe thead th {\n",
       "        text-align: right;\n",
       "    }\n",
       "</style>\n",
       "<table border=\"1\" class=\"dataframe\">\n",
       "  <thead>\n",
       "    <tr style=\"text-align: right;\">\n",
       "      <th></th>\n",
       "      <th>correlation</th>\n",
       "      <th>weights</th>\n",
       "      <th>mu</th>\n",
       "      <th>stdev</th>\n",
       "    </tr>\n",
       "  </thead>\n",
       "  <tbody>\n",
       "    <tr>\n",
       "      <th>0</th>\n",
       "      <td>0.3</td>\n",
       "      <td>(0, 1)</td>\n",
       "      <td>0.15</td>\n",
       "      <td>0.24</td>\n",
       "    </tr>\n",
       "    <tr>\n",
       "      <th>1</th>\n",
       "      <td>0.3</td>\n",
       "      <td>(0.2, 0.8)</td>\n",
       "      <td>0.14</td>\n",
       "      <td>0.20</td>\n",
       "    </tr>\n",
       "    <tr>\n",
       "      <th>2</th>\n",
       "      <td>0.3</td>\n",
       "      <td>(0.4, 0.6)</td>\n",
       "      <td>0.13</td>\n",
       "      <td>0.17</td>\n",
       "    </tr>\n",
       "    <tr>\n",
       "      <th>3</th>\n",
       "      <td>0.3</td>\n",
       "      <td>(0.6, 0.4)</td>\n",
       "      <td>0.12</td>\n",
       "      <td>0.15</td>\n",
       "    </tr>\n",
       "    <tr>\n",
       "      <th>4</th>\n",
       "      <td>0.3</td>\n",
       "      <td>(0.8, 0.2)</td>\n",
       "      <td>0.11</td>\n",
       "      <td>0.15</td>\n",
       "    </tr>\n",
       "    <tr>\n",
       "      <th>5</th>\n",
       "      <td>0.3</td>\n",
       "      <td>(1, 0)</td>\n",
       "      <td>0.10</td>\n",
       "      <td>0.16</td>\n",
       "    </tr>\n",
       "    <tr>\n",
       "      <th>6</th>\n",
       "      <td>1.0</td>\n",
       "      <td>(0, 1)</td>\n",
       "      <td>0.15</td>\n",
       "      <td>0.24</td>\n",
       "    </tr>\n",
       "    <tr>\n",
       "      <th>7</th>\n",
       "      <td>1.0</td>\n",
       "      <td>(0.2, 0.8)</td>\n",
       "      <td>0.14</td>\n",
       "      <td>0.22</td>\n",
       "    </tr>\n",
       "    <tr>\n",
       "      <th>8</th>\n",
       "      <td>1.0</td>\n",
       "      <td>(0.4, 0.6)</td>\n",
       "      <td>0.13</td>\n",
       "      <td>0.21</td>\n",
       "    </tr>\n",
       "    <tr>\n",
       "      <th>9</th>\n",
       "      <td>1.0</td>\n",
       "      <td>(0.6, 0.4)</td>\n",
       "      <td>0.12</td>\n",
       "      <td>0.19</td>\n",
       "    </tr>\n",
       "    <tr>\n",
       "      <th>10</th>\n",
       "      <td>1.0</td>\n",
       "      <td>(0.8, 0.2)</td>\n",
       "      <td>0.11</td>\n",
       "      <td>0.18</td>\n",
       "    </tr>\n",
       "    <tr>\n",
       "      <th>11</th>\n",
       "      <td>1.0</td>\n",
       "      <td>(1, 0)</td>\n",
       "      <td>0.10</td>\n",
       "      <td>0.16</td>\n",
       "    </tr>\n",
       "    <tr>\n",
       "      <th>12</th>\n",
       "      <td>-1.0</td>\n",
       "      <td>(0, 1)</td>\n",
       "      <td>0.15</td>\n",
       "      <td>0.24</td>\n",
       "    </tr>\n",
       "    <tr>\n",
       "      <th>13</th>\n",
       "      <td>-1.0</td>\n",
       "      <td>(0.2, 0.8)</td>\n",
       "      <td>0.14</td>\n",
       "      <td>0.16</td>\n",
       "    </tr>\n",
       "    <tr>\n",
       "      <th>14</th>\n",
       "      <td>-1.0</td>\n",
       "      <td>(0.4, 0.6)</td>\n",
       "      <td>0.13</td>\n",
       "      <td>0.08</td>\n",
       "    </tr>\n",
       "    <tr>\n",
       "      <th>15</th>\n",
       "      <td>-1.0</td>\n",
       "      <td>(0.6, 0.4)</td>\n",
       "      <td>0.12</td>\n",
       "      <td>0.00</td>\n",
       "    </tr>\n",
       "    <tr>\n",
       "      <th>16</th>\n",
       "      <td>-1.0</td>\n",
       "      <td>(0.8, 0.2)</td>\n",
       "      <td>0.11</td>\n",
       "      <td>0.08</td>\n",
       "    </tr>\n",
       "    <tr>\n",
       "      <th>17</th>\n",
       "      <td>-1.0</td>\n",
       "      <td>(1, 0)</td>\n",
       "      <td>0.10</td>\n",
       "      <td>0.16</td>\n",
       "    </tr>\n",
       "  </tbody>\n",
       "</table>\n",
       "</div>"
      ],
      "text/plain": [
       "    correlation     weights    mu  stdev\n",
       "0           0.3      (0, 1)  0.15   0.24\n",
       "1           0.3  (0.2, 0.8)  0.14   0.20\n",
       "2           0.3  (0.4, 0.6)  0.13   0.17\n",
       "3           0.3  (0.6, 0.4)  0.12   0.15\n",
       "4           0.3  (0.8, 0.2)  0.11   0.15\n",
       "5           0.3      (1, 0)  0.10   0.16\n",
       "6           1.0      (0, 1)  0.15   0.24\n",
       "7           1.0  (0.2, 0.8)  0.14   0.22\n",
       "8           1.0  (0.4, 0.6)  0.13   0.21\n",
       "9           1.0  (0.6, 0.4)  0.12   0.19\n",
       "10          1.0  (0.8, 0.2)  0.11   0.18\n",
       "11          1.0      (1, 0)  0.10   0.16\n",
       "12         -1.0      (0, 1)  0.15   0.24\n",
       "13         -1.0  (0.2, 0.8)  0.14   0.16\n",
       "14         -1.0  (0.4, 0.6)  0.13   0.08\n",
       "15         -1.0  (0.6, 0.4)  0.12   0.00\n",
       "16         -1.0  (0.8, 0.2)  0.11   0.08\n",
       "17         -1.0      (1, 0)  0.10   0.16"
      ]
     },
     "execution_count": 26,
     "metadata": {},
     "output_type": "execute_result"
    }
   ],
   "source": [
    "results = pd.DataFrame()\n",
    "\n",
    "mean1 = 0.1\n",
    "std1 = 0.16\n",
    "\n",
    "mean2 = 0.15\n",
    "std2 = 0.24\n",
    "\n",
    "correlations = [0.3, 1, -1]\n",
    "\n",
    "weights = [(0, 1), (0.2, 0.8), (0.4, 0.6), (0.6, 0.4), (0.8, 0.2), (1, 0)]\n",
    "\n",
    "for c in correlations:\n",
    "    for w in weights:\n",
    "        d = {}\n",
    "        mu = w[0] * mean1 + w[1] * mean2\n",
    "        stdev = round(\n",
    "            np.sqrt(\n",
    "                (w[0] ** 2) * (std1 ** 2)\n",
    "                + (w[1] ** 2) * (std2 ** 2)\n",
    "                + 2 * c * w[0] * w[1] * std1 * std2\n",
    "            ),\n",
    "            2,\n",
    "        )\n",
    "        d[\"correlation\"] = c\n",
    "        d[\"weights\"] = w\n",
    "        d[\"mu\"] = mu\n",
    "        d[\"stdev\"] = stdev\n",
    "        results = results.append(d, ignore_index=True)\n",
    "results[[\"correlation\", \"weights\", \"mu\", \"stdev\"]]"
   ]
  },
  {
   "cell_type": "markdown",
   "metadata": {},
   "source": [
    "## 1.4 What is the difference between systematic & non-systematic risk? Which is more important to an equity investor? Which can lead to bankruptcy of a corporation?"
   ]
  },
  {
   "cell_type": "markdown",
   "metadata": {},
   "source": [
    "Non-systematic risk can be diversified; systematic risk cannot. Systematic risk is more important to an equity investor. Either type of risk can lead to the bankruptcy of a corporation."
   ]
  },
  {
   "cell_type": "markdown",
   "metadata": {},
   "source": [
    "## 1.5 Outline the arguments leading to the conclusion that all investors should choose the same portfolio of risk investments. What are the key assumptions?"
   ]
  },
  {
   "cell_type": "markdown",
   "metadata": {},
   "source": [
    "We assume that investors trade off mean return and standard devation of return.\n",
    "For a given mean return, they want to minimize the standard deviation of returns.\n",
    "All make the same estimates of means, standard deviations, and coefficients of correlation for returns or individual investments. Furthermore, they can borrow or lend at the risk-free rate.\n",
    "The result is that they all want to be on the \"efficient frontier\", they choose the same portfolio of risky investments combined with borrowing or lending at risk-free rate."
   ]
  },
  {
   "cell_type": "code",
   "execution_count": null,
   "metadata": {},
   "outputs": [],
   "source": [
    "## 1.6 The expected return on the market portfolio "
   ]
  },
  {
   "cell_type": "markdown",
   "metadata": {},
   "source": []
  }
 ],
 "metadata": {
  "kernelspec": {
   "display_name": "Python 3",
   "language": "python",
   "name": "python3"
  },
  "language_info": {
   "codemirror_mode": {
    "name": "ipython",
    "version": 3
   },
   "file_extension": ".py",
   "mimetype": "text/x-python",
   "name": "python",
   "nbconvert_exporter": "python",
   "pygments_lexer": "ipython3",
   "version": "3.8.3"
  }
 },
 "nbformat": 4,
 "nbformat_minor": 4
}
