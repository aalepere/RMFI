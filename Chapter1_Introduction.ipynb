{
 "cells": [
  {
   "cell_type": "markdown",
   "metadata": {},
   "source": [
    "# Chapter 1 - Introduction"
   ]
  },
  {
   "cell_type": "code",
   "execution_count": 1,
   "metadata": {},
   "outputs": [],
   "source": [
    "import numpy as np"
   ]
  },
  {
   "cell_type": "markdown",
   "metadata": {},
   "source": [
    "1.1 An investment has probabilities of 0.1, 0.2, 0.35, 0.25 and 0.1 of giving returns equal to 40%, 30%, 15%, -5% and -15%.\n",
    "What are the expected returns abd the standard deviation of those returns?"
   ]
  },
  {
   "cell_type": "code",
   "execution_count": 2,
   "metadata": {},
   "outputs": [
    {
     "name": "stdout",
     "output_type": "stream",
     "text": [
      "Expected returns is 0.12499999999999999\n",
      "Standard deviation of expected returns is 0.17066048165876016\n"
     ]
    }
   ],
   "source": [
    "ER = 0.1 * 0.4 + 0.2 * 0.3 + 0.35 * 0.15 + 0.25 * (-0.05) + 0.1 * (-0.15)\n",
    "print(\"Expected returns is {}\".format(ER))\n",
    "\n",
    "# stdev sqrt(E(R^2) - E(R)^2)\n",
    "SD = np.sqrt(\n",
    "    (\n",
    "        0.1 * (0.4 ** 2)\n",
    "        + 0.2 * (0.3 ** 2)\n",
    "        + 0.35 * (0.15 ** 2)\n",
    "        + 0.25 * ((-0.05) ** 2)\n",
    "        + 0.1 * ((-0.15) ** 2)\n",
    "    )\n",
    "    - ER ** 2\n",
    ")\n",
    "print(\"Standard deviation of expected returns is {}\".format(SD))"
   ]
  },
  {
   "cell_type": "markdown",
   "metadata": {},
   "source": [
    "1.2 Suppose that there are two investements with the same probability distribution of returns as 1.1. The correlation between the returns is 0.15.\n",
    "What is the expected return and standard deviation of return from a portfolio where money is divided equally between the two investments?"
   ]
  },
  {
   "cell_type": "code",
   "execution_count": 3,
   "metadata": {},
   "outputs": [
    {
     "name": "stdout",
     "output_type": "stream",
     "text": [
      "Expected returns is 0.12499999999999999\n",
      "Standard deviation of expected returns is 0.12940971756402225\n"
     ]
    }
   ],
   "source": [
    "# Portfolio exptected returns\n",
    "ER_new_portfolio = 0.5 * ER + 0.5 * ER\n",
    "print(\"Expected returns is {}\".format(ER_new_portfolio))\n",
    "\n",
    "# Stdev = sqrt(w1^2*std1^2 + w2^2*std2^2 + 2*corr*w1*w2*std1*std2)\n",
    "SD_new_portfolio = np.sqrt(\n",
    "    (0.5 ** 2) * (SD ** 2) + (0.5 ** 2) * (SD ** 2) + 2 * 0.15 * 0.5 * 0.5 * SD * SD\n",
    ")\n",
    "print(\"Standard deviation of expected returns is {}\".format(SD_new_portfolio))"
   ]
  }
 ],
 "metadata": {
  "kernelspec": {
   "display_name": "Python 3",
   "language": "python",
   "name": "python3"
  },
  "language_info": {
   "codemirror_mode": {
    "name": "ipython",
    "version": 3
   },
   "file_extension": ".py",
   "mimetype": "text/x-python",
   "name": "python",
   "nbconvert_exporter": "python",
   "pygments_lexer": "ipython3",
   "version": "3.8.3"
  }
 },
 "nbformat": 4,
 "nbformat_minor": 4
}
